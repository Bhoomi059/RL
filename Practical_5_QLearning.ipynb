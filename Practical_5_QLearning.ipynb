{
  "nbformat": 4,
  "nbformat_minor": 0,
  "metadata": {
    "colab": {
      "provenance": [],
      "include_colab_link": true
    },
    "kernelspec": {
      "name": "python3",
      "display_name": "Python 3"
    },
    "language_info": {
      "name": "python"
    }
  },
  "cells": [
    {
      "cell_type": "markdown",
      "metadata": {
        "id": "view-in-github",
        "colab_type": "text"
      },
      "source": [
        "<a href=\"https://colab.research.google.com/github/Bhoomi059/RL/blob/main/Practical_5_QLearning.ipynb\" target=\"_parent\"><img src=\"https://colab.research.google.com/assets/colab-badge.svg\" alt=\"Open In Colab\"/></a>"
      ]
    },
    {
      "cell_type": "markdown",
      "source": [
        "# **Q-Learning**"
      ],
      "metadata": {
        "id": "vsGI1PSTMpfL"
      }
    },
    {
      "cell_type": "code",
      "source": [
        "import numpy as np\n",
        "\n",
        "# Define the environment matrix\n",
        "env_matrix = np.array([\n",
        "    [-1, -1, -1, -1, 0, -1],\n",
        "    [-1, -1, -1, 0, -1, 100],\n",
        "    [-1, -1, -1, 0, -1, -1],\n",
        "    [-1, 0, 0, -1, 0, -1],\n",
        "    [0, -1, -1, 0, -1, 100],\n",
        "    [-1, 0, -1, -1, 0, 100]\n",
        "])\n",
        "\n",
        "# Initialize the Q-table with zeros\n",
        "num_states, num_actions = env_matrix.shape\n",
        "Q = np.zeros((num_states, num_actions))\n",
        "\n",
        "# Set hyperparameters\n",
        "gamma = 0.8\n",
        "\n",
        "# Define the sequence of states\n",
        "sequence = [1, 3]\n",
        "\n",
        "# Q-learning algorithm\n",
        "for state in sequence:\n",
        "    # Find the non-negative Q-values for the possible actions in the current state\n",
        "    possible_actions = np.where(env_matrix[state] >= 0)[0]\n",
        "\n",
        "    # Update the Q-values for each possible action\n",
        "    for action in possible_actions:\n",
        "        Q[state, action] = env_matrix[state, action] + gamma * np.max(Q[action])\n",
        "\n",
        "    # Print the updated Q-table\n",
        "    print(\"Q-table after state\", state)\n",
        "    print(Q)\n",
        "\n",
        "print(\"Final Q-table:\")\n",
        "print(Q)"
      ],
      "metadata": {
        "colab": {
          "base_uri": "https://localhost:8080/"
        },
        "id": "845NyRYilCuM",
        "outputId": "0fa89215-e550-4b37-aa71-fb4102afd676"
      },
      "execution_count": null,
      "outputs": [
        {
          "output_type": "stream",
          "name": "stdout",
          "text": [
            "Q-table after state 1\n",
            "[[  0.   0.   0.   0.   0.   0.]\n",
            " [  0.   0.   0.   0.   0. 100.]\n",
            " [  0.   0.   0.   0.   0.   0.]\n",
            " [  0.   0.   0.   0.   0.   0.]\n",
            " [  0.   0.   0.   0.   0.   0.]\n",
            " [  0.   0.   0.   0.   0.   0.]]\n",
            "Q-table after state 3\n",
            "[[  0.   0.   0.   0.   0.   0.]\n",
            " [  0.   0.   0.   0.   0. 100.]\n",
            " [  0.   0.   0.   0.   0.   0.]\n",
            " [  0.  80.   0.   0.   0.   0.]\n",
            " [  0.   0.   0.   0.   0.   0.]\n",
            " [  0.   0.   0.   0.   0.   0.]]\n",
            "Final Q-table:\n",
            "[[  0.   0.   0.   0.   0.   0.]\n",
            " [  0.   0.   0.   0.   0. 100.]\n",
            " [  0.   0.   0.   0.   0.   0.]\n",
            " [  0.  80.   0.   0.   0.   0.]\n",
            " [  0.   0.   0.   0.   0.   0.]\n",
            " [  0.   0.   0.   0.   0.   0.]]\n"
          ]
        }
      ]
    },
    {
      "cell_type": "code",
      "source": [
        "import numpy as np\n",
        "\n",
        "# Define the environment matrix\n",
        "env_matrix = np.array([\n",
        "    [-1, -1, -1, -1, 0, -1],\n",
        "    [-1, -1, -1, 0, -1, 100],\n",
        "    [-1, -1, -1, 0, -1, -1],\n",
        "    [-1, 0, 0, -1, 0, -1],\n",
        "    [0, -1, -1, 0, -1, 100],\n",
        "    [-1, 0, -1, -1, 0, 100]\n",
        "])\n",
        "\n",
        "# Initialize the Q-table with zeros\n",
        "num_states, num_actions = env_matrix.shape\n",
        "Q = np.zeros((num_states, num_actions))\n",
        "\n",
        "# Set hyperparameters\n",
        "gamma = 0.8\n",
        "\n",
        "# Define the sequence of states\n",
        "sequence = [1, 3, 5]\n",
        "\n",
        "# Q-learning algorithm\n",
        "for state in sequence:\n",
        "    # Find the non-negative Q-values for the possible actions in the current state\n",
        "    possible_actions = np.where(env_matrix[state] >= 0)[0]\n",
        "\n",
        "    # Update the Q-values for each possible action\n",
        "    for action in possible_actions:\n",
        "        Q[state, action] = env_matrix[state, action] + gamma * np.max(Q[action])\n",
        "\n",
        "    # Print the updated Q-table\n",
        "    print(\"Q-table after state\", state)\n",
        "    print(Q)\n",
        "\n",
        "print(\"Final Q-table:\")\n",
        "print(Q)"
      ],
      "metadata": {
        "colab": {
          "base_uri": "https://localhost:8080/"
        },
        "id": "Pq8ezHKtjME-",
        "outputId": "301b2c7a-704f-4ca6-8699-5caa0a74b607"
      },
      "execution_count": null,
      "outputs": [
        {
          "output_type": "stream",
          "name": "stdout",
          "text": [
            "Q-table after state 1\n",
            "[[  0.   0.   0.   0.   0.   0.]\n",
            " [  0.   0.   0.   0.   0. 100.]\n",
            " [  0.   0.   0.   0.   0.   0.]\n",
            " [  0.   0.   0.   0.   0.   0.]\n",
            " [  0.   0.   0.   0.   0.   0.]\n",
            " [  0.   0.   0.   0.   0.   0.]]\n",
            "Q-table after state 3\n",
            "[[  0.   0.   0.   0.   0.   0.]\n",
            " [  0.   0.   0.   0.   0. 100.]\n",
            " [  0.   0.   0.   0.   0.   0.]\n",
            " [  0.  80.   0.   0.   0.   0.]\n",
            " [  0.   0.   0.   0.   0.   0.]\n",
            " [  0.   0.   0.   0.   0.   0.]]\n",
            "Q-table after state 5\n",
            "[[  0.   0.   0.   0.   0.   0.]\n",
            " [  0.   0.   0.   0.   0. 100.]\n",
            " [  0.   0.   0.   0.   0.   0.]\n",
            " [  0.  80.   0.   0.   0.   0.]\n",
            " [  0.   0.   0.   0.   0.   0.]\n",
            " [  0.  80.   0.   0.   0. 164.]]\n",
            "Final Q-table:\n",
            "[[  0.   0.   0.   0.   0.   0.]\n",
            " [  0.   0.   0.   0.   0. 100.]\n",
            " [  0.   0.   0.   0.   0.   0.]\n",
            " [  0.  80.   0.   0.   0.   0.]\n",
            " [  0.   0.   0.   0.   0.   0.]\n",
            " [  0.  80.   0.   0.   0. 164.]]\n"
          ]
        }
      ]
    },
    {
      "cell_type": "code",
      "execution_count": 2,
      "metadata": {
        "colab": {
          "base_uri": "https://localhost:8080/"
        },
        "id": "TF6_Ynvi5Q_v",
        "outputId": "e22f4681-81fe-480a-c82e-6eed666b77c0"
      },
      "outputs": [
        {
          "output_type": "stream",
          "name": "stdout",
          "text": [
            "Enter the number of iterations: 4\n",
            "Q-table after state 1\n",
            "[[  0.   0.   0.   0.   0.   0.]\n",
            " [  0.   0.   0.   0.   0. 100.]\n",
            " [  0.   0.   0.   0.   0.   0.]\n",
            " [  0.   0.   0.   0.   0.   0.]\n",
            " [  0.   0.   0.   0.   0.   0.]\n",
            " [  0.   0.   0.   0.   0.   0.]]\n",
            "Q-table after state 2\n",
            "[[  0.   0.   0.   0.   0.   0.]\n",
            " [  0.   0.   0.   0.   0. 100.]\n",
            " [  0.   0.   0.   0.   0.   0.]\n",
            " [  0.   0.   0.   0.   0.   0.]\n",
            " [  0.   0.   0.   0.   0.   0.]\n",
            " [  0.   0.   0.   0.   0.   0.]]\n",
            "Q-table after state 1\n",
            "[[  0.   0.   0.   0.   0.   0.]\n",
            " [  0.   0.   0.   0.   0. 100.]\n",
            " [  0.   0.   0.   0.   0.   0.]\n",
            " [  0.   0.   0.   0.   0.   0.]\n",
            " [  0.   0.   0.   0.   0.   0.]\n",
            " [  0.   0.   0.   0.   0.   0.]]\n",
            "Q-table after state 2\n",
            "[[  0.   0.   0.   0.   0.   0.]\n",
            " [  0.   0.   0.   0.   0. 100.]\n",
            " [  0.   0.   0.   0.   0.   0.]\n",
            " [  0.   0.   0.   0.   0.   0.]\n",
            " [  0.   0.   0.   0.   0.   0.]\n",
            " [  0.   0.   0.   0.   0.   0.]]\n",
            "Final Q-table:\n",
            "[[  0.   0.   0.   0.   0.   0.]\n",
            " [  0.   0.   0.   0.   0. 100.]\n",
            " [  0.   0.   0.   0.   0.   0.]\n",
            " [  0.   0.   0.   0.   0.   0.]\n",
            " [  0.   0.   0.   0.   0.   0.]\n",
            " [  0.   0.   0.   0.   0.   0.]]\n"
          ]
        }
      ],
      "source": [
        "import numpy as np\n",
        "\n",
        "# Define the environment matrix\n",
        "env_matrix = np.array([\n",
        "    [-1, -1, -1, -1, 0, -1],\n",
        "    [-1, -1, -1, 0, -1, 100],\n",
        "    [-1, -1, -1, 0, -1, -1],\n",
        "    [-1, 0, 0, -1, 0, -1],\n",
        "    [0, -1, -1, 0, -1, 100],\n",
        "    [-1, 0, -1, -1, 0, 100]\n",
        "])\n",
        "\n",
        "# Initialize the Q-table with zeros\n",
        "num_states, num_actions = env_matrix.shape\n",
        "Q = np.zeros((num_states, num_actions))\n",
        "\n",
        "# Set hyperparameters\n",
        "gamma = 0.8\n",
        "\n",
        "# Specify the number of iterations\n",
        "num_iterations = int(input(\"Enter the number of iterations: \"))\n",
        "\n",
        "for iteration in range(num_iterations):\n",
        "    # Randomly choose a state\n",
        "    state = np.random.randint(0, num_states)\n",
        "\n",
        "    # Find the non-negative Q-values for the possible actions in the current state\n",
        "    possible_actions = np.where(env_matrix[state] >= 0)[0]\n",
        "\n",
        "    # Update the Q-values for each possible action\n",
        "    for action in possible_actions:\n",
        "        Q[state, action] = env_matrix[state, action] + gamma * np.max(Q[action])\n",
        "\n",
        "    # Print the updated Q-table\n",
        "    print(\"Q-table after state\", state)\n",
        "    print(Q)\n",
        "\n",
        "print(\"Final Q-table:\")\n",
        "print(Q)"
      ]
    }
  ]
}