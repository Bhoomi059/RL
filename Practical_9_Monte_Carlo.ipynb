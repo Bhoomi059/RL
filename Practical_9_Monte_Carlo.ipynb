{
  "cells": [
    {
      "cell_type": "markdown",
      "metadata": {
        "id": "view-in-github",
        "colab_type": "text"
      },
      "source": [
        "<a href=\"https://colab.research.google.com/github/Bhoomi059/RL/blob/main/Practical_9_Monte_Carlo.ipynb\" target=\"_parent\"><img src=\"https://colab.research.google.com/assets/colab-badge.svg\" alt=\"Open In Colab\"/></a>"
      ]
    },
    {
      "cell_type": "markdown",
      "metadata": {
        "id": "mDjHsOcj5ZxN"
      },
      "source": [
        "# **MONTE CARLO**"
      ]
    },
    {
      "cell_type": "markdown",
      "metadata": {
        "id": "Y8PUJAXONEZC"
      },
      "source": [
        "Ep1: A+3 A+2 B-4 A+4 B-3 <br>\n",
        "Ep2: B-2 A+3 B-3"
      ]
    },
    {
      "cell_type": "markdown",
      "metadata": {
        "id": "Gr5lsOYI5Zjo"
      },
      "source": [
        "## **FIRST VISIT**"
      ]
    },
    {
      "cell_type": "code",
      "execution_count": 1,
      "metadata": {
        "colab": {
          "base_uri": "https://localhost:8080/"
        },
        "id": "9rMcIenpMTJs",
        "outputId": "1b5f277c-1dbb-42b1-e52b-6dd15f6219cd"
      },
      "outputs": [
        {
          "output_type": "stream",
          "name": "stdout",
          "text": [
            "Enter the number of episodes: 2\n",
            "Enter the episode 1: A+3 A+2 B-4 A+4 B-3\n",
            "Enter the episode 2: B-2 A+3 B-3\n",
            "Estimated state values:\n",
            "State B: -2.5\n",
            "State A: 1.0\n"
          ]
        }
      ],
      "source": [
        "def generate_episode(i):\n",
        "    episode_pattern = input(f\"Enter the episode {i}: \").split()\n",
        "    episode = []\n",
        "    for step in episode_pattern:\n",
        "        state = step[0]\n",
        "        reward = int(step[1:])\n",
        "        episode.append((state, reward))\n",
        "    return episode\n",
        "\n",
        "def monte_carlo_first_visit(episodes):\n",
        "    returns = {}\n",
        "    state_count = {}\n",
        "    state_values = {}\n",
        "\n",
        "    for episode in episodes:\n",
        "        states, rewards = zip(*episode)\n",
        "        total_return = 0\n",
        "\n",
        "        for t in range(len(states) - 1, -1, -1):\n",
        "            state = states[t]\n",
        "            total_return += rewards[t]\n",
        "            if state not in states[:t]:\n",
        "                if state in returns:\n",
        "                    returns[state].append(total_return)\n",
        "                else:\n",
        "                    returns[state] = [total_return]\n",
        "                state_count[state] = len(returns[state])\n",
        "                state_values[state] = sum(returns[state]) / state_count[state]\n",
        "\n",
        "    return state_values\n",
        "\n",
        "def main():\n",
        "    num_episodes = int(input(\"Enter the number of episodes: \"))\n",
        "    episodes = []\n",
        "    for i in range(num_episodes):\n",
        "        episode = generate_episode(i+1)\n",
        "        episodes.append(episode)\n",
        "\n",
        "    state_values = monte_carlo_first_visit(episodes)\n",
        "\n",
        "    print(\"Estimated state values:\")\n",
        "    for state, value in state_values.items():\n",
        "        print(f\"State {state}: {value}\")\n",
        "\n",
        "if __name__ == \"__main__\":\n",
        "    main()\n"
      ]
    },
    {
      "cell_type": "markdown",
      "metadata": {
        "id": "eDIrMpWiNPLW"
      },
      "source": [
        "## **EVERY VISIT**"
      ]
    },
    {
      "cell_type": "code",
      "execution_count": 2,
      "metadata": {
        "colab": {
          "base_uri": "https://localhost:8080/"
        },
        "id": "ptRHHDf0NRVJ",
        "outputId": "7810579f-9664-43fa-cda7-ff63aa9c0159"
      },
      "outputs": [
        {
          "output_type": "stream",
          "name": "stdout",
          "text": [
            "Enter the number of episodes: 2\n",
            "Enter the episode 1: A+3 A+2 B-4 A+4 B-3\n",
            "Enter the episode 2: B-2 A+3 B-3\n",
            "Estimated state values:\n",
            "State A: 0.5\n",
            "State B: -2.75\n"
          ]
        }
      ],
      "source": [
        "import numpy as np\n",
        "\n",
        "gamma = 1.0\n",
        "\n",
        "def generate_episode(i):\n",
        "    episode_pattern = input(f\"Enter the episode {i}: \").split()\n",
        "    episode = []\n",
        "    for step in episode_pattern:\n",
        "        state = step[0]\n",
        "        reward = int(step[1:])\n",
        "        episode.append((state, reward))\n",
        "    return episode\n",
        "\n",
        "def calculate_return(episode, t):\n",
        "    G = 0\n",
        "    for i in range(t, len(episode)):\n",
        "        reward = episode[i][1]\n",
        "        G = G + (gamma ** (i - t)) * reward\n",
        "    return G\n",
        "\n",
        "def monte_carlo_every_visit(episodes):\n",
        "    state_values = {}\n",
        "    returns_sum = {}\n",
        "    state_counts = {}\n",
        "\n",
        "    for episode in episodes:\n",
        "        for t in range(len(episode)):\n",
        "            state = episode[t][0]\n",
        "            if state not in state_counts:\n",
        "                state_counts[state] = 0\n",
        "            state_counts[state] += 1\n",
        "\n",
        "            G = calculate_return(episode, t)\n",
        "\n",
        "            if state not in returns_sum:\n",
        "                returns_sum[state] = 0\n",
        "            returns_sum[state] += G\n",
        "\n",
        "            state_values[state] = returns_sum[state] / state_counts[state]\n",
        "\n",
        "    return state_values\n",
        "\n",
        "def main():\n",
        "    num_episodes = int(input(\"Enter the number of episodes: \"))\n",
        "    episodes = []\n",
        "    for i in range(num_episodes):\n",
        "        episode = generate_episode(i + 1)\n",
        "        episodes.append(episode)\n",
        "\n",
        "    state_values = monte_carlo_every_visit(episodes)\n",
        "\n",
        "    print(\"Estimated state values:\")\n",
        "    for state, value in state_values.items():\n",
        "        print(f\"State {state}: {value}\")\n",
        "\n",
        "if __name__ == \"__main__\":\n",
        "    main()\n",
        "\n",
        "# A+3 A+2 B-4 A+4 B-3\n",
        "# B-2 A+3 B-3"
      ]
    },
    {
      "cell_type": "markdown",
      "metadata": {
        "id": "DWZcSKvpNUAS"
      },
      "source": [
        "## **BOTH**"
      ]
    },
    {
      "cell_type": "code",
      "execution_count": 4,
      "metadata": {
        "colab": {
          "base_uri": "https://localhost:8080/"
        },
        "id": "tFyT8PqdcA9s",
        "outputId": "e34afd0c-221e-4f57-dcdd-f7d2d1014a21"
      },
      "outputs": [
        {
          "output_type": "stream",
          "name": "stdout",
          "text": [
            "Enter the number of episodes: 2\n",
            "Enter the episode 1: A+3 A+2 B-4 A+4 B-3\n",
            "Enter the episode 2: B-2 A+3 B-3\n",
            "Choose either 1. First Visit or 2. Every Visit: 2\n",
            "Estimated state values:\n",
            "State A: 0.5\n",
            "State B: -2.75\n"
          ]
        }
      ],
      "source": [
        "import numpy as np\n",
        "\n",
        "gamma = 1.0\n",
        "\n",
        "def generate_episode(i):\n",
        "    episode_pattern = input(f\"Enter the episode {i}: \").split()\n",
        "    episode = []\n",
        "    for step in episode_pattern:\n",
        "        state = step[0]\n",
        "        reward = int(step[1:])\n",
        "        episode.append((state, reward))\n",
        "    return episode\n",
        "\n",
        "def monte_carlo_first_visit(episodes):\n",
        "    returns = {}\n",
        "    state_count = {}\n",
        "    state_values = {}\n",
        "\n",
        "    for episode in episodes:\n",
        "        states, rewards = zip(*episode)\n",
        "        total_return = 0\n",
        "\n",
        "        for t in range(len(states) - 1, -1, -1):\n",
        "            state = states[t]\n",
        "            total_return += rewards[t]\n",
        "            if state not in states[:t]:\n",
        "                if state in returns:\n",
        "                    returns[state].append(total_return)\n",
        "                else:\n",
        "                    returns[state] = [total_return]\n",
        "                state_count[state] = len(returns[state])\n",
        "                state_values[state] = sum(returns[state]) / state_count[state]\n",
        "\n",
        "    return state_values\n",
        "\n",
        "def calculate_return(episode, t):\n",
        "    G = 0\n",
        "    for i in range(t, len(episode)):\n",
        "        reward = episode[i][1]\n",
        "        G = G + (gamma ** (i - t)) * reward\n",
        "    return G\n",
        "\n",
        "def monte_carlo_every_visit(episodes):\n",
        "    state_values = {}\n",
        "    returns_sum = {}\n",
        "    state_counts = {}\n",
        "\n",
        "    for episode in episodes:\n",
        "        for t in range(len(episode)):\n",
        "            state = episode[t][0]\n",
        "            if state not in state_counts:\n",
        "                state_counts[state] = 0\n",
        "            state_counts[state] += 1\n",
        "\n",
        "            G = calculate_return(episode, t)\n",
        "\n",
        "            if state not in returns_sum:\n",
        "                returns_sum[state] = 0\n",
        "            returns_sum[state] += G\n",
        "\n",
        "            state_values[state] = returns_sum[state] / state_counts[state]\n",
        "\n",
        "    return state_values\n",
        "\n",
        "def main():\n",
        "    num_episodes = int(input(\"Enter the number of episodes: \"))\n",
        "    episodes = []\n",
        "    for i in range(num_episodes):\n",
        "        episode = generate_episode(i+1)\n",
        "        episodes.append(episode)\n",
        "\n",
        "    visit = int(input(\"Choose either 1. First Visit or 2. Every Visit: \"))\n",
        "    if visit == 1:\n",
        "      state_values = monte_carlo_first_visit(episodes)\n",
        "    elif visit == 2:\n",
        "      state_values = monte_carlo_every_visit(episodes)\n",
        "    else:\n",
        "      print(\"Error: choose either 1. First Visit or 2. Every Visit.\")\n",
        "      return\n",
        "\n",
        "    print(\"Estimated state values:\")\n",
        "    for state, value in state_values.items():\n",
        "        print(f\"State {state}: {value}\")\n",
        "\n",
        "if __name__ == \"__main__\":\n",
        "    main()\n",
        "\n",
        "# A+3 A+2 B-4 A+4 B-3\n",
        "# B-2 A+3 B-3"
      ]
    },
    {
      "cell_type": "code",
      "source": [],
      "metadata": {
        "id": "c20P7I6i24EG"
      },
      "execution_count": null,
      "outputs": []
    }
  ],
  "metadata": {
    "colab": {
      "provenance": [],
      "include_colab_link": true
    },
    "kernelspec": {
      "display_name": "Python 3 (ipykernel)",
      "language": "python",
      "name": "python3"
    },
    "language_info": {
      "codemirror_mode": {
        "name": "ipython",
        "version": 3
      },
      "file_extension": ".py",
      "mimetype": "text/x-python",
      "name": "python",
      "nbconvert_exporter": "python",
      "pygments_lexer": "ipython3",
      "version": "3.9.12"
    }
  },
  "nbformat": 4,
  "nbformat_minor": 0
}